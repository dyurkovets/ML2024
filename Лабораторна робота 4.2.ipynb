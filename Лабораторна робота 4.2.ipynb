{
 "cells": [
  {
   "cell_type": "code",
   "execution_count": 148,
   "metadata": {},
   "outputs": [],
   "source": [
    "import pandas as pd\n",
    "from sklearn.model_selection import StratifiedKFold, GridSearchCV, cross_val_score, train_test_split, cross_val_predict\n",
    "from sklearn.tree import DecisionTreeClassifier\n",
    "from sklearn.ensemble import RandomForestClassifier\n",
    "from sklearn.svm import SVC\n",
    "from sklearn.preprocessing import StandardScaler\n",
    "from sklearn.metrics import accuracy_score, precision_score, recall_score, f1_score, roc_auc_score\n",
    "import numpy as np\n",
    "\n"
   ]
  },
  {
   "cell_type": "code",
   "execution_count": 149,
   "metadata": {},
   "outputs": [],
   "source": [
    "# Завантаження даних\n",
    "file_path = 'titanic.csv'\n",
    "titanic_data = pd.read_csv(file_path)"
   ]
  },
  {
   "cell_type": "code",
   "execution_count": 150,
   "metadata": {},
   "outputs": [],
   "source": [
    "# Вибір основних ознак (без нових ознак)\n",
    "selected_columns = ['Survived', 'Pclass', 'Sex', 'Age', 'Fare']\n",
    "titanic_selected = titanic_data[selected_columns]"
   ]
  },
  {
   "cell_type": "code",
   "execution_count": 151,
   "metadata": {},
   "outputs": [
    {
     "name": "stderr",
     "output_type": "stream",
     "text": [
      "C:\\Users\\User\\AppData\\Local\\Temp\\ipykernel_12984\\2968045514.py:2: FutureWarning: A value is trying to be set on a copy of a DataFrame or Series through chained assignment using an inplace method.\n",
      "The behavior will change in pandas 3.0. This inplace method will never work because the intermediate object on which we are setting values always behaves as a copy.\n",
      "\n",
      "For example, when doing 'df[col].method(value, inplace=True)', try using 'df.method({col: value}, inplace=True)' or df[col] = df[col].method(value) instead, to perform the operation inplace on the original object.\n",
      "\n",
      "\n",
      "  titanic_selected['Age'].fillna(titanic_selected['Age'].median(), inplace=True)\n",
      "C:\\Users\\User\\AppData\\Local\\Temp\\ipykernel_12984\\2968045514.py:2: SettingWithCopyWarning: \n",
      "A value is trying to be set on a copy of a slice from a DataFrame\n",
      "\n",
      "See the caveats in the documentation: https://pandas.pydata.org/pandas-docs/stable/user_guide/indexing.html#returning-a-view-versus-a-copy\n",
      "  titanic_selected['Age'].fillna(titanic_selected['Age'].median(), inplace=True)\n",
      "C:\\Users\\User\\AppData\\Local\\Temp\\ipykernel_12984\\2968045514.py:3: FutureWarning: A value is trying to be set on a copy of a DataFrame or Series through chained assignment using an inplace method.\n",
      "The behavior will change in pandas 3.0. This inplace method will never work because the intermediate object on which we are setting values always behaves as a copy.\n",
      "\n",
      "For example, when doing 'df[col].method(value, inplace=True)', try using 'df.method({col: value}, inplace=True)' or df[col] = df[col].method(value) instead, to perform the operation inplace on the original object.\n",
      "\n",
      "\n",
      "  titanic_selected['Fare'].fillna(titanic_selected['Fare'].median(), inplace=True)\n",
      "C:\\Users\\User\\AppData\\Local\\Temp\\ipykernel_12984\\2968045514.py:3: SettingWithCopyWarning: \n",
      "A value is trying to be set on a copy of a slice from a DataFrame\n",
      "\n",
      "See the caveats in the documentation: https://pandas.pydata.org/pandas-docs/stable/user_guide/indexing.html#returning-a-view-versus-a-copy\n",
      "  titanic_selected['Fare'].fillna(titanic_selected['Fare'].median(), inplace=True)\n"
     ]
    }
   ],
   "source": [
    "# Обробка пропущених значень\n",
    "titanic_selected['Age'].fillna(titanic_selected['Age'].median(), inplace=True)\n",
    "titanic_selected['Fare'].fillna(titanic_selected['Fare'].median(), inplace=True)\n"
   ]
  },
  {
   "cell_type": "code",
   "execution_count": 152,
   "metadata": {},
   "outputs": [
    {
     "name": "stderr",
     "output_type": "stream",
     "text": [
      "C:\\Users\\User\\AppData\\Local\\Temp\\ipykernel_12984\\1967952041.py:2: SettingWithCopyWarning: \n",
      "A value is trying to be set on a copy of a slice from a DataFrame.\n",
      "Try using .loc[row_indexer,col_indexer] = value instead\n",
      "\n",
      "See the caveats in the documentation: https://pandas.pydata.org/pandas-docs/stable/user_guide/indexing.html#returning-a-view-versus-a-copy\n",
      "  titanic_selected['Sex'] = titanic_selected['Sex'].map({'male': 0, 'female': 1})\n"
     ]
    }
   ],
   "source": [
    "# Замінити категоріальні змінні на числові (Sex)\n",
    "titanic_selected['Sex'] = titanic_selected['Sex'].map({'male': 0, 'female': 1})"
   ]
  },
  {
   "cell_type": "code",
   "execution_count": 153,
   "metadata": {},
   "outputs": [],
   "source": [
    "\n",
    "# Розділення на ознаки та цільову змінну\n",
    "X = titanic_selected.drop('Survived', axis=1)\n",
    "y = titanic_selected['Survived']\n"
   ]
  },
  {
   "cell_type": "code",
   "execution_count": 154,
   "metadata": {},
   "outputs": [],
   "source": [
    "# Стандартизація числових ознак\n",
    "scaler = StandardScaler()\n",
    "X_scaled = scaler.fit_transform(X)"
   ]
  },
  {
   "cell_type": "code",
   "execution_count": 155,
   "metadata": {},
   "outputs": [],
   "source": [
    "# Розділення даних на навчальні та тестові\n",
    "X_train, X_test, y_train, y_test = train_test_split(X_scaled, y, test_size=0.2, random_state=42)"
   ]
  },
  {
   "cell_type": "code",
   "execution_count": 156,
   "metadata": {},
   "outputs": [],
   "source": [
    "# Масштабування даних\n",
    "scaler = StandardScaler()\n",
    "X_train_scaled = scaler.fit_transform(X_train)\n",
    "X_test_scaled = scaler.transform(X_test)"
   ]
  },
  {
   "cell_type": "code",
   "execution_count": 157,
   "metadata": {},
   "outputs": [],
   "source": [
    "# 1. Використовуємо стратифіковану крос-валідацію\n",
    "skf = StratifiedKFold(n_splits=5, shuffle=True, random_state=42)"
   ]
  },
  {
   "cell_type": "code",
   "execution_count": 158,
   "metadata": {},
   "outputs": [],
   "source": [
    "# 2. Налаштування моделей і GridSearchCV\n",
    "classifiers = {\n",
    "    'Decision Tree': DecisionTreeClassifier(),\n",
    "    'Random Forest': RandomForestClassifier(),\n",
    "    'SVM': SVC(probability=True)\n",
    "}\n",
    "\n",
    "param_grids = {\n",
    "    'Decision Tree': {'max_depth': [3, 5, 10], 'min_samples_split': [2, 5, 10]},\n",
    "    'Random Forest': {'n_estimators': [50, 100], 'max_depth': [3, 5, 10], 'min_samples_split': [2, 5]},\n",
    "    'SVM': {'C': [0.1, 1, 10], 'kernel': ['linear', 'rbf']}\n",
    "}\n"
   ]
  },
  {
   "cell_type": "code",
   "execution_count": 159,
   "metadata": {},
   "outputs": [
    {
     "name": "stdout",
     "output_type": "stream",
     "text": [
      "Найкращі параметри для Decision Tree: {'max_depth': 3, 'min_samples_split': 2}\n",
      "Найкращий результат для Decision Tree: 1.0000\n",
      "Найкращі параметри для Random Forest: {'max_depth': 3, 'min_samples_split': 2, 'n_estimators': 50}\n",
      "Найкращий результат для Random Forest: 1.0000\n",
      "Найкращі параметри для SVM: {'C': 0.1, 'kernel': 'linear'}\n",
      "Найкращий результат для SVM: 1.0000\n"
     ]
    }
   ],
   "source": [
    "# 3. Виконання крос-валідації та пошук найкращих параметрів\n",
    "best_models = {}\n",
    "for name, model in classifiers.items():\n",
    "    grid_search = GridSearchCV(estimator=model, param_grid=param_grids[name], cv=skf, scoring='accuracy')\n",
    "    grid_search.fit(X_train, y_train)\n",
    "    best_models[name] = grid_search.best_estimator_\n",
    "    print(f\"Найкращі параметри для {name}: {grid_search.best_params_}\")\n",
    "    print(f\"Найкращий результат для {name}: {grid_search.best_score_:.4f}\")\n"
   ]
  },
  {
   "cell_type": "code",
   "execution_count": 160,
   "metadata": {},
   "outputs": [
    {
     "name": "stdout",
     "output_type": "stream",
     "text": [
      "\n",
      "Оцінка моделі: Decision Tree\n",
      "Точність на тестовій вибірці: 1.0000\n",
      "F1 Score на тестовій вибірці: 1.0000\n",
      "ROC AUC Score на тестовій вибірці: 1.0000\n",
      "\n",
      "Оцінка моделі: Random Forest\n",
      "Точність на тестовій вибірці: 1.0000\n",
      "F1 Score на тестовій вибірці: 1.0000\n",
      "ROC AUC Score на тестовій вибірці: 1.0000\n",
      "\n",
      "Оцінка моделі: SVM\n",
      "Точність на тестовій вибірці: 1.0000\n",
      "F1 Score на тестовій вибірці: 1.0000\n",
      "ROC AUC Score на тестовій вибірці: 1.0000\n"
     ]
    }
   ],
   "source": [
    "# 4. Оцінка моделей на тестовій вибірці\n",
    "for name, model in best_models.items():\n",
    "    model.fit(X_train, y_train)\n",
    "    y_pred = model.predict(X_test)\n",
    "    print(f\"\\nОцінка моделі: {name}\")\n",
    "    print(f\"Точність на тестовій вибірці: {accuracy_score(y_test, y_pred):.4f}\")\n",
    "    print(f\"F1 Score на тестовій вибірці: {f1_score(y_test, y_pred):.4f}\")\n",
    "    print(f\"ROC AUC Score на тестовій вибірці: {roc_auc_score(y_test, model.predict_proba(X_test)[:, 1]):.4f}\")\n"
   ]
  },
  {
   "cell_type": "code",
   "execution_count": 161,
   "metadata": {},
   "outputs": [
    {
     "name": "stdout",
     "output_type": "stream",
     "text": [
      "\n",
      "Оцінка моделі: Decision Tree\n",
      "Середня точність крос-валідації: 1.0000\n",
      "Середнє F1 Score: 1.0000\n",
      "ROC AUC Score: 1.0000\n",
      "\n",
      "Оцінка моделі: Random Forest\n",
      "Середня точність крос-валідації: 1.0000\n",
      "Середнє F1 Score: 1.0000\n",
      "ROC AUC Score: 1.0000\n",
      "\n",
      "Оцінка моделі: SVM\n",
      "Середня точність крос-валідації: 1.0000\n",
      "Середнє F1 Score: 1.0000\n",
      "ROC AUC Score: 1.0000\n"
     ]
    }
   ],
   "source": [
    "# 5. Оцінка моделей за допомогою крос-валідації\n",
    "for name, model in best_models.items():\n",
    "    y_pred = cross_val_predict(model, X_scaled, y, cv=skf, method='predict')\n",
    "    print(f\"\\nОцінка моделі: {name}\")\n",
    "    print(f\"Середня точність крос-валідації: {np.mean(cross_val_score(model, X_scaled, y, cv=skf, scoring='accuracy')):.4f}\")\n",
    "    print(f\"Середнє F1 Score: {f1_score(y, y_pred):.4f}\")\n",
    "    print(f\"ROC AUC Score: {roc_auc_score(y, cross_val_predict(model, X_scaled, y, cv=skf, method='predict_proba')[:, 1]):.4f}\")\n"
   ]
  },
  {
   "cell_type": "code",
   "execution_count": 162,
   "metadata": {},
   "outputs": [
    {
     "name": "stdout",
     "output_type": "stream",
     "text": [
      "\n",
      "Прогноз для моделі Decision Tree на 10 випадків: [0 1 0 0 1 0 1 0 1 0]\n",
      "\n",
      "Прогноз для моделі Random Forest на 10 випадків: [0 1 0 0 1 0 1 0 1 0]\n",
      "\n",
      "Прогноз для моделі SVM на 10 випадків: [0 1 0 0 1 0 1 0 1 0]\n"
     ]
    }
   ],
   "source": [
    "# 6. Прогноз для 10 нових випадків\n",
    "new_data = X_test[:10]  # Використовуємо перші 10 випадкових рядків з тестових даних\n",
    "for name, model in best_models.items():\n",
    "    predictions = model.predict(new_data)\n",
    "    print(f\"\\nПрогноз для моделі {name} на 10 випадків: {predictions}\")\n"
   ]
  },
  {
   "cell_type": "markdown",
   "metadata": {},
   "source": [
    "Усі моделі продемонстрували ідеальну точність та F1 Score під час крос-валідації. Прогнози для 10 нових випадків були однакові для всіх моделей. Це може свідчити про те, що всі три моделі добре узгоджуються з наявними даними або ж є ймовірність перетренування."
   ]
  }
 ],
 "metadata": {
  "kernelspec": {
   "display_name": "Python 3",
   "language": "python",
   "name": "python3"
  },
  "language_info": {
   "codemirror_mode": {
    "name": "ipython",
    "version": 3
   },
   "file_extension": ".py",
   "mimetype": "text/x-python",
   "name": "python",
   "nbconvert_exporter": "python",
   "pygments_lexer": "ipython3",
   "version": "3.10.6"
  }
 },
 "nbformat": 4,
 "nbformat_minor": 2
}
