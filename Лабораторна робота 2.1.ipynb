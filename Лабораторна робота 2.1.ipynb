{
 "cells": [
  {
   "cell_type": "code",
   "execution_count": 79,
   "metadata": {},
   "outputs": [
    {
     "data": {
      "text/html": [
       "<div>\n",
       "<style scoped>\n",
       "    .dataframe tbody tr th:only-of-type {\n",
       "        vertical-align: middle;\n",
       "    }\n",
       "\n",
       "    .dataframe tbody tr th {\n",
       "        vertical-align: top;\n",
       "    }\n",
       "\n",
       "    .dataframe thead tr th {\n",
       "        text-align: left;\n",
       "    }\n",
       "</style>\n",
       "<table border=\"1\" class=\"dataframe\">\n",
       "  <thead>\n",
       "    <tr>\n",
       "      <th></th>\n",
       "      <th>Country/Territory</th>\n",
       "      <th colspan=\"2\" halign=\"left\">IMF[1][13]</th>\n",
       "      <th colspan=\"2\" halign=\"left\">World Bank[14]</th>\n",
       "      <th colspan=\"2\" halign=\"left\">United Nations[15]</th>\n",
       "    </tr>\n",
       "    <tr>\n",
       "      <th></th>\n",
       "      <th>Country/Territory</th>\n",
       "      <th>Forecast</th>\n",
       "      <th>Year</th>\n",
       "      <th>Estimate</th>\n",
       "      <th>Year</th>\n",
       "      <th>Estimate</th>\n",
       "      <th>Year</th>\n",
       "    </tr>\n",
       "  </thead>\n",
       "  <tbody>\n",
       "    <tr>\n",
       "      <th>0</th>\n",
       "      <td>World</td>\n",
       "      <td>109529216</td>\n",
       "      <td>2024</td>\n",
       "      <td>105435540</td>\n",
       "      <td>2023</td>\n",
       "      <td>100834796</td>\n",
       "      <td>2022</td>\n",
       "    </tr>\n",
       "    <tr>\n",
       "      <th>1</th>\n",
       "      <td>United States</td>\n",
       "      <td>28781083</td>\n",
       "      <td>2024</td>\n",
       "      <td>27360935</td>\n",
       "      <td>2023</td>\n",
       "      <td>25744100</td>\n",
       "      <td>2022</td>\n",
       "    </tr>\n",
       "    <tr>\n",
       "      <th>2</th>\n",
       "      <td>China</td>\n",
       "      <td>18532633</td>\n",
       "      <td>[n 1]2024</td>\n",
       "      <td>17794782</td>\n",
       "      <td>[n 3]2023</td>\n",
       "      <td>17963170</td>\n",
       "      <td>[n 1]2022</td>\n",
       "    </tr>\n",
       "    <tr>\n",
       "      <th>3</th>\n",
       "      <td>Germany</td>\n",
       "      <td>4591100</td>\n",
       "      <td>2024</td>\n",
       "      <td>4456081</td>\n",
       "      <td>2023</td>\n",
       "      <td>4076923</td>\n",
       "      <td>2022</td>\n",
       "    </tr>\n",
       "    <tr>\n",
       "      <th>4</th>\n",
       "      <td>Japan</td>\n",
       "      <td>4110452</td>\n",
       "      <td>2024</td>\n",
       "      <td>4212945</td>\n",
       "      <td>2023</td>\n",
       "      <td>4232173</td>\n",
       "      <td>2022</td>\n",
       "    </tr>\n",
       "  </tbody>\n",
       "</table>\n",
       "</div>"
      ],
      "text/plain": [
       "  Country/Territory IMF[1][13]            World Bank[14]             \\\n",
       "  Country/Territory   Forecast       Year       Estimate       Year   \n",
       "0             World  109529216       2024      105435540       2023   \n",
       "1     United States   28781083       2024       27360935       2023   \n",
       "2             China   18532633  [n 1]2024       17794782  [n 3]2023   \n",
       "3           Germany    4591100       2024        4456081       2023   \n",
       "4             Japan    4110452       2024        4212945       2023   \n",
       "\n",
       "  United Nations[15]             \n",
       "            Estimate       Year  \n",
       "0          100834796       2022  \n",
       "1           25744100       2022  \n",
       "2           17963170  [n 1]2022  \n",
       "3            4076923       2022  \n",
       "4            4232173       2022  "
      ]
     },
     "execution_count": 79,
     "metadata": {},
     "output_type": "execute_result"
    }
   ],
   "source": [
    "import pandas as pd\n",
    "import numpy as np\n",
    "\n",
    "url = \"https://en.wikipedia.org/wiki/List_of_countries_by_GDP_(nominal)\"\n",
    "\n",
    "tables = pd.read_html(url)\n",
    "\n",
    "gdp_data = tables[2]\n",
    "\n",
    "gdp_data.head()\n"
   ]
  },
  {
   "cell_type": "code",
   "execution_count": 80,
   "metadata": {},
   "outputs": [
    {
     "data": {
      "text/html": [
       "<div>\n",
       "<style scoped>\n",
       "    .dataframe tbody tr th:only-of-type {\n",
       "        vertical-align: middle;\n",
       "    }\n",
       "\n",
       "    .dataframe tbody tr th {\n",
       "        vertical-align: top;\n",
       "    }\n",
       "\n",
       "    .dataframe thead th {\n",
       "        text-align: right;\n",
       "    }\n",
       "</style>\n",
       "<table border=\"1\" class=\"dataframe\">\n",
       "  <thead>\n",
       "    <tr style=\"text-align: right;\">\n",
       "      <th></th>\n",
       "      <th>Country</th>\n",
       "      <th>MVF_Forecast</th>\n",
       "      <th>MVF_Year</th>\n",
       "      <th>WorldBank_Estimate</th>\n",
       "      <th>WorldBank_Year</th>\n",
       "      <th>OON_Estimate</th>\n",
       "      <th>OON_Year</th>\n",
       "    </tr>\n",
       "  </thead>\n",
       "  <tbody>\n",
       "    <tr>\n",
       "      <th>1</th>\n",
       "      <td>United States</td>\n",
       "      <td>28781083</td>\n",
       "      <td>2024</td>\n",
       "      <td>27360935</td>\n",
       "      <td>2023</td>\n",
       "      <td>25744100</td>\n",
       "      <td>2022</td>\n",
       "    </tr>\n",
       "    <tr>\n",
       "      <th>2</th>\n",
       "      <td>China</td>\n",
       "      <td>18532633</td>\n",
       "      <td>[n 1]2024</td>\n",
       "      <td>17794782</td>\n",
       "      <td>[n 3]2023</td>\n",
       "      <td>17963170</td>\n",
       "      <td>[n 1]2022</td>\n",
       "    </tr>\n",
       "    <tr>\n",
       "      <th>3</th>\n",
       "      <td>Germany</td>\n",
       "      <td>4591100</td>\n",
       "      <td>2024</td>\n",
       "      <td>4456081</td>\n",
       "      <td>2023</td>\n",
       "      <td>4076923</td>\n",
       "      <td>2022</td>\n",
       "    </tr>\n",
       "    <tr>\n",
       "      <th>4</th>\n",
       "      <td>Japan</td>\n",
       "      <td>4110452</td>\n",
       "      <td>2024</td>\n",
       "      <td>4212945</td>\n",
       "      <td>2023</td>\n",
       "      <td>4232173</td>\n",
       "      <td>2022</td>\n",
       "    </tr>\n",
       "    <tr>\n",
       "      <th>5</th>\n",
       "      <td>India</td>\n",
       "      <td>3937011</td>\n",
       "      <td>2024</td>\n",
       "      <td>3549919</td>\n",
       "      <td>2023</td>\n",
       "      <td>3465541</td>\n",
       "      <td>2022</td>\n",
       "    </tr>\n",
       "  </tbody>\n",
       "</table>\n",
       "</div>"
      ],
      "text/plain": [
       "         Country MVF_Forecast   MVF_Year WorldBank_Estimate WorldBank_Year  \\\n",
       "1  United States     28781083       2024           27360935           2023   \n",
       "2          China     18532633  [n 1]2024           17794782      [n 3]2023   \n",
       "3        Germany      4591100       2024            4456081           2023   \n",
       "4          Japan      4110452       2024            4212945           2023   \n",
       "5          India      3937011       2024            3549919           2023   \n",
       "\n",
       "  OON_Estimate   OON_Year  \n",
       "1     25744100       2022  \n",
       "2     17963170  [n 1]2022  \n",
       "3      4076923       2022  \n",
       "4      4232173       2022  \n",
       "5      3465541       2022  "
      ]
     },
     "execution_count": 80,
     "metadata": {},
     "output_type": "execute_result"
    }
   ],
   "source": [
    "current_columns= [( 'Country/Territory', 'Country/Territory'),\n",
    "            (        'IMF[1][13]',          'Forecast'),\n",
    "            (        'IMF[1][13]',              'Year'),\n",
    "            (    'World Bank[14]',          'Estimate'),\n",
    "            (    'World Bank[14]',              'Year'),\n",
    "            ('United Nations[15]',          'Estimate'),\n",
    "            ('United Nations[15]',              'Year')]\n",
    "new_columns= [\n",
    "    'Country',\n",
    "    'MVF_Forecast',\n",
    "    'MVF_Year',\n",
    "    'WorldBank_Estimate',\n",
    "    'WorldBank_Year',\n",
    "    'OON_Estimate',\n",
    "    'OON_Year',\n",
    "]\n",
    "gdp_data.columns=new_columns\n",
    "gdp_data=gdp_data.drop(index=[0])\n",
    "\n",
    "gdp_data.head()"
   ]
  },
  {
   "cell_type": "code",
   "execution_count": 81,
   "metadata": {},
   "outputs": [
    {
     "name": "stdout",
     "output_type": "stream",
     "text": [
      "(209, 7)\n"
     ]
    }
   ],
   "source": [
    "print(gdp_data.shape)"
   ]
  },
  {
   "cell_type": "code",
   "execution_count": 82,
   "metadata": {},
   "outputs": [
    {
     "name": "stdout",
     "output_type": "stream",
     "text": [
      "Index(['Country', 'MVF_Forecast', 'MVF_Year', 'WorldBank_Estimate',\n",
      "       'WorldBank_Year', 'OON_Estimate', 'OON_Year'],\n",
      "      dtype='object')\n"
     ]
    }
   ],
   "source": [
    "print(gdp_data.columns)\n"
   ]
  },
  {
   "cell_type": "code",
   "execution_count": 83,
   "metadata": {},
   "outputs": [
    {
     "name": "stdout",
     "output_type": "stream",
     "text": [
      "         Country  MVF_2024 WorldBank_2023  OON_2022\n",
      "1  United States  28781083       27360935  25744100\n",
      "2          China  18532633       17794782  17963170\n",
      "3        Germany   4591100        4456081   4076923\n",
      "4          Japan   4110452        4212945   4232173\n",
      "5          India   3937011        3549919   3465541\n"
     ]
    }
   ],
   "source": [
    "gdp_data = gdp_data.drop(gdp_data.columns[[2, 4, 6]], axis=1)\n",
    "gdp_data.columns = ['Country', 'MVF_2024', 'WorldBank_2023', 'OON_2022']\n",
    "print(gdp_data.head())"
   ]
  },
  {
   "cell_type": "code",
   "execution_count": 84,
   "metadata": {},
   "outputs": [
    {
     "name": "stdout",
     "output_type": "stream",
     "text": [
      "Country           object\n",
      "MVF_2024          object\n",
      "WorldBank_2023    object\n",
      "OON_2022          object\n",
      "dtype: object\n"
     ]
    }
   ],
   "source": [
    "print(gdp_data.dtypes)"
   ]
  },
  {
   "cell_type": "code",
   "execution_count": 85,
   "metadata": {},
   "outputs": [
    {
     "name": "stdout",
     "output_type": "stream",
     "text": [
      "Country            0\n",
      "MVF_2024          15\n",
      "WorldBank_2023     8\n",
      "OON_2022           1\n",
      "dtype: int64\n"
     ]
    }
   ],
   "source": [
    "gdp_data.replace(\"—\", np.nan, inplace=True)\n",
    "print(gdp_data.isnull().sum())\n"
   ]
  },
  {
   "cell_type": "code",
   "execution_count": 86,
   "metadata": {},
   "outputs": [
    {
     "name": "stdout",
     "output_type": "stream",
     "text": [
      "Country           0\n",
      "MVF_2024          0\n",
      "WorldBank_2023    0\n",
      "OON_2022          0\n",
      "dtype: int64\n"
     ]
    },
    {
     "name": "stderr",
     "output_type": "stream",
     "text": [
      "C:\\Users\\User\\AppData\\Local\\Temp\\ipykernel_7644\\1821757794.py:9: FutureWarning: A value is trying to be set on a copy of a DataFrame or Series through chained assignment using an inplace method.\n",
      "The behavior will change in pandas 3.0. This inplace method will never work because the intermediate object on which we are setting values always behaves as a copy.\n",
      "\n",
      "For example, when doing 'df[col].method(value, inplace=True)', try using 'df.method({col: value}, inplace=True)' or df[col] = df[col].method(value) instead, to perform the operation inplace on the original object.\n",
      "\n",
      "\n",
      "  gdp_data['MVF_2024'].fillna(mvf_mean, inplace=True)\n",
      "C:\\Users\\User\\AppData\\Local\\Temp\\ipykernel_7644\\1821757794.py:10: FutureWarning: A value is trying to be set on a copy of a DataFrame or Series through chained assignment using an inplace method.\n",
      "The behavior will change in pandas 3.0. This inplace method will never work because the intermediate object on which we are setting values always behaves as a copy.\n",
      "\n",
      "For example, when doing 'df[col].method(value, inplace=True)', try using 'df.method({col: value}, inplace=True)' or df[col] = df[col].method(value) instead, to perform the operation inplace on the original object.\n",
      "\n",
      "\n",
      "  gdp_data['WorldBank_2023'].fillna(wb_mean, inplace=True)\n",
      "C:\\Users\\User\\AppData\\Local\\Temp\\ipykernel_7644\\1821757794.py:11: FutureWarning: A value is trying to be set on a copy of a DataFrame or Series through chained assignment using an inplace method.\n",
      "The behavior will change in pandas 3.0. This inplace method will never work because the intermediate object on which we are setting values always behaves as a copy.\n",
      "\n",
      "For example, when doing 'df[col].method(value, inplace=True)', try using 'df.method({col: value}, inplace=True)' or df[col] = df[col].method(value) instead, to perform the operation inplace on the original object.\n",
      "\n",
      "\n",
      "  gdp_data['OON_2022'].fillna(oon_mean, inplace=True)\n"
     ]
    }
   ],
   "source": [
    "gdp_data['MVF_2024'] = pd.to_numeric(gdp_data['MVF_2024'], errors='coerce')\n",
    "gdp_data['WorldBank_2023'] = pd.to_numeric(gdp_data['WorldBank_2023'], errors='coerce')\n",
    "gdp_data['OON_2022'] = pd.to_numeric(gdp_data['OON_2022'], errors='coerce')\n",
    "\n",
    "mvf_mean = gdp_data['MVF_2024'].mean()\n",
    "wb_mean = gdp_data['WorldBank_2023'].mean()\n",
    "oon_mean = gdp_data['OON_2022'].mean()\n",
    "\n",
    "gdp_data['MVF_2024'].fillna(mvf_mean, inplace=True)\n",
    "gdp_data['WorldBank_2023'].fillna(wb_mean, inplace=True)\n",
    "gdp_data['OON_2022'].fillna(oon_mean, inplace=True)\n",
    "\n",
    "print(gdp_data.isnull().sum())"
   ]
  },
  {
   "cell_type": "code",
   "execution_count": 87,
   "metadata": {},
   "outputs": [],
   "source": [
    "gdp_data.drop_duplicates(inplace=True)"
   ]
  },
  {
   "cell_type": "code",
   "execution_count": 88,
   "metadata": {},
   "outputs": [
    {
     "data": {
      "text/html": [
       "<div>\n",
       "<style scoped>\n",
       "    .dataframe tbody tr th:only-of-type {\n",
       "        vertical-align: middle;\n",
       "    }\n",
       "\n",
       "    .dataframe tbody tr th {\n",
       "        vertical-align: top;\n",
       "    }\n",
       "\n",
       "    .dataframe thead th {\n",
       "        text-align: right;\n",
       "    }\n",
       "</style>\n",
       "<table border=\"1\" class=\"dataframe\">\n",
       "  <thead>\n",
       "    <tr style=\"text-align: right;\">\n",
       "      <th></th>\n",
       "      <th>MVF_2024</th>\n",
       "      <th>WorldBank_2023</th>\n",
       "      <th>OON_2022</th>\n",
       "    </tr>\n",
       "  </thead>\n",
       "  <tbody>\n",
       "    <tr>\n",
       "      <th>count</th>\n",
       "      <td>2.090000e+02</td>\n",
       "      <td>2.090000e+02</td>\n",
       "      <td>2.090000e+02</td>\n",
       "    </tr>\n",
       "    <tr>\n",
       "      <th>mean</th>\n",
       "      <td>5.644339e+05</td>\n",
       "      <td>5.178115e+05</td>\n",
       "      <td>4.811087e+05</td>\n",
       "    </tr>\n",
       "    <tr>\n",
       "      <th>std</th>\n",
       "      <td>2.435307e+06</td>\n",
       "      <td>2.325859e+06</td>\n",
       "      <td>2.236743e+06</td>\n",
       "    </tr>\n",
       "    <tr>\n",
       "      <th>min</th>\n",
       "      <td>6.600000e+01</td>\n",
       "      <td>6.200000e+01</td>\n",
       "      <td>5.900000e+01</td>\n",
       "    </tr>\n",
       "    <tr>\n",
       "      <th>25%</th>\n",
       "      <td>1.446700e+04</td>\n",
       "      <td>1.043800e+04</td>\n",
       "      <td>8.772000e+03</td>\n",
       "    </tr>\n",
       "    <tr>\n",
       "      <th>50%</th>\n",
       "      <td>5.631000e+04</td>\n",
       "      <td>4.320500e+04</td>\n",
       "      <td>3.171700e+04</td>\n",
       "    </tr>\n",
       "    <tr>\n",
       "      <th>75%</th>\n",
       "      <td>4.099890e+05</td>\n",
       "      <td>3.355330e+05</td>\n",
       "      <td>2.371010e+05</td>\n",
       "    </tr>\n",
       "    <tr>\n",
       "      <th>max</th>\n",
       "      <td>2.878108e+07</td>\n",
       "      <td>2.736094e+07</td>\n",
       "      <td>2.574410e+07</td>\n",
       "    </tr>\n",
       "  </tbody>\n",
       "</table>\n",
       "</div>"
      ],
      "text/plain": [
       "           MVF_2024  WorldBank_2023      OON_2022\n",
       "count  2.090000e+02    2.090000e+02  2.090000e+02\n",
       "mean   5.644339e+05    5.178115e+05  4.811087e+05\n",
       "std    2.435307e+06    2.325859e+06  2.236743e+06\n",
       "min    6.600000e+01    6.200000e+01  5.900000e+01\n",
       "25%    1.446700e+04    1.043800e+04  8.772000e+03\n",
       "50%    5.631000e+04    4.320500e+04  3.171700e+04\n",
       "75%    4.099890e+05    3.355330e+05  2.371010e+05\n",
       "max    2.878108e+07    2.736094e+07  2.574410e+07"
      ]
     },
     "execution_count": 88,
     "metadata": {},
     "output_type": "execute_result"
    }
   ],
   "source": [
    "gdp_data.describe()"
   ]
  },
  {
   "cell_type": "code",
   "execution_count": 89,
   "metadata": {},
   "outputs": [
    {
     "name": "stdout",
     "output_type": "stream",
     "text": [
      "Country           United States\n",
      "MVF_2024             28781083.0\n",
      "WorldBank_2023       27360935.0\n",
      "OON_2022             25744100.0\n",
      "Difference            1420148.0\n",
      "Name: 1, dtype: object\n"
     ]
    }
   ],
   "source": [
    "gdp_data['Difference'] = gdp_data['MVF_2024'] - gdp_data['WorldBank_2023']\n",
    "max_difference = gdp_data.loc[gdp_data['Difference'].idxmax()]\n",
    "print(max_difference)"
   ]
  },
  {
   "cell_type": "code",
   "execution_count": 90,
   "metadata": {},
   "outputs": [
    {
     "data": {
      "text/html": [
       "<div>\n",
       "<style scoped>\n",
       "    .dataframe tbody tr th:only-of-type {\n",
       "        vertical-align: middle;\n",
       "    }\n",
       "\n",
       "    .dataframe tbody tr th {\n",
       "        vertical-align: top;\n",
       "    }\n",
       "\n",
       "    .dataframe thead th {\n",
       "        text-align: right;\n",
       "    }\n",
       "</style>\n",
       "<table border=\"1\" class=\"dataframe\">\n",
       "  <thead>\n",
       "    <tr style=\"text-align: right;\">\n",
       "      <th></th>\n",
       "      <th>MVF_2024</th>\n",
       "      <th>WorldBank_2023</th>\n",
       "      <th>OON_2022</th>\n",
       "    </tr>\n",
       "  </thead>\n",
       "  <tbody>\n",
       "    <tr>\n",
       "      <th>MVF_2024</th>\n",
       "      <td>1.000000</td>\n",
       "      <td>0.998216</td>\n",
       "      <td>0.997244</td>\n",
       "    </tr>\n",
       "    <tr>\n",
       "      <th>WorldBank_2023</th>\n",
       "      <td>0.998216</td>\n",
       "      <td>1.000000</td>\n",
       "      <td>0.998610</td>\n",
       "    </tr>\n",
       "    <tr>\n",
       "      <th>OON_2022</th>\n",
       "      <td>0.997244</td>\n",
       "      <td>0.998610</td>\n",
       "      <td>1.000000</td>\n",
       "    </tr>\n",
       "  </tbody>\n",
       "</table>\n",
       "</div>"
      ],
      "text/plain": [
       "                MVF_2024  WorldBank_2023  OON_2022\n",
       "MVF_2024        1.000000        0.998216  0.997244\n",
       "WorldBank_2023  0.998216        1.000000  0.998610\n",
       "OON_2022        0.997244        0.998610  1.000000"
      ]
     },
     "execution_count": 90,
     "metadata": {},
     "output_type": "execute_result"
    }
   ],
   "source": [
    "gdp_data[['MVF_2024', 'WorldBank_2023', 'OON_2022']].corr()\n"
   ]
  },
  {
   "cell_type": "code",
   "execution_count": 91,
   "metadata": {},
   "outputs": [
    {
     "data": {
      "text/plain": [
       "MVF_2024          564433.932990\n",
       "WorldBank_2023    517811.472637\n",
       "OON_2022          481108.673077\n",
       "dtype: float64"
      ]
     },
     "execution_count": 91,
     "metadata": {},
     "output_type": "execute_result"
    }
   ],
   "source": [
    "gdp_data[['MVF_2024', 'WorldBank_2023', 'OON_2022']].mean()\n"
   ]
  },
  {
   "cell_type": "code",
   "execution_count": 92,
   "metadata": {},
   "outputs": [
    {
     "name": "stdout",
     "output_type": "stream",
     "text": [
      "Country            United States\n",
      "MVF_2024              28781083.0\n",
      "WorldBank_2023        27360935.0\n",
      "OON_2022              25744100.0\n",
      "Difference             1420148.0\n",
      "Std_Deviation     1519552.648063\n",
      "Name: 1, dtype: object\n"
     ]
    }
   ],
   "source": [
    "gdp_data['Std_Deviation'] = gdp_data[['MVF_2024', 'WorldBank_2023', 'OON_2022']].std(axis=1)\n",
    "max_std = gdp_data.loc[gdp_data['Std_Deviation'].idxmax()]\n",
    "print(max_std)\n"
   ]
  },
  {
   "cell_type": "code",
   "execution_count": 93,
   "metadata": {},
   "outputs": [
    {
     "name": "stdout",
     "output_type": "stream",
     "text": [
      "Найвищий MVF_2024: Country            United States\n",
      "MVF_2024              28781083.0\n",
      "WorldBank_2023        27360935.0\n",
      "OON_2022              25744100.0\n",
      "Difference             1420148.0\n",
      "Std_Deviation     1519552.648063\n",
      "Name: 1, dtype: object\n",
      "Найнижчий MVF_2024: Country             Tuvalu\n",
      "MVF_2024              66.0\n",
      "WorldBank_2023        62.0\n",
      "OON_2022              59.0\n",
      "Difference             4.0\n",
      "Std_Deviation     3.511885\n",
      "Name: 209, dtype: object\n"
     ]
    }
   ],
   "source": [
    "print(\"Найвищий MVF_2024:\", gdp_data.loc[gdp_data['MVF_2024'].idxmax()])\n",
    "print(\"Найнижчий MVF_2024:\", gdp_data.loc[gdp_data['MVF_2024'].idxmin()])\n"
   ]
  },
  {
   "cell_type": "code",
   "execution_count": 94,
   "metadata": {},
   "outputs": [
    {
     "data": {
      "image/png": "[encoded data removed]",
      "text/plain": [
       "<Figure size 640x480 with 1 Axes>"
      ]
     },
     "metadata": {},
     "output_type": "display_data"
    }
   ],
   "source": [
    "import matplotlib.pyplot as plt\n",
    "\n",
    "gdp_data['MVF_2024'].hist(bins=30)\n",
    "plt.title('Distribution of MVF_2024')\n",
    "plt.xlabel('MVF_2024')\n",
    "plt.ylabel('Frequency')\n",
    "plt.show()"
   ]
  },
  {
   "cell_type": "code",
   "execution_count": 95,
   "metadata": {},
   "outputs": [
    {
     "data": {
      "text/html": [
       "<div>\n",
       "<style scoped>\n",
       "    .dataframe tbody tr th:only-of-type {\n",
       "        vertical-align: middle;\n",
       "    }\n",
       "\n",
       "    .dataframe tbody tr th {\n",
       "        vertical-align: top;\n",
       "    }\n",
       "\n",
       "    .dataframe thead th {\n",
       "        text-align: right;\n",
       "    }\n",
       "</style>\n",
       "<table border=\"1\" class=\"dataframe\">\n",
       "  <thead>\n",
       "    <tr style=\"text-align: right;\">\n",
       "      <th></th>\n",
       "      <th>Country</th>\n",
       "      <th>Share_MVF_2024</th>\n",
       "      <th>Share_WorldBank_2023</th>\n",
       "      <th>Share_OON_2022</th>\n",
       "      <th>Change_2023_2024</th>\n",
       "      <th>Change_2022_2023</th>\n",
       "    </tr>\n",
       "  </thead>\n",
       "  <tbody>\n",
       "    <tr>\n",
       "      <th>1</th>\n",
       "      <td>United States</td>\n",
       "      <td>24.397635</td>\n",
       "      <td>25.282090</td>\n",
       "      <td>25.602846</td>\n",
       "      <td>-0.884455</td>\n",
       "      <td>-0.320755</td>\n",
       "    </tr>\n",
       "    <tr>\n",
       "      <th>2</th>\n",
       "      <td>China</td>\n",
       "      <td>15.710056</td>\n",
       "      <td>16.442760</td>\n",
       "      <td>17.864609</td>\n",
       "      <td>-0.732704</td>\n",
       "      <td>-1.421849</td>\n",
       "    </tr>\n",
       "    <tr>\n",
       "      <th>3</th>\n",
       "      <td>Germany</td>\n",
       "      <td>3.891861</td>\n",
       "      <td>4.117514</td>\n",
       "      <td>4.054554</td>\n",
       "      <td>-0.225653</td>\n",
       "      <td>0.062961</td>\n",
       "    </tr>\n",
       "    <tr>\n",
       "      <th>4</th>\n",
       "      <td>Japan</td>\n",
       "      <td>3.484417</td>\n",
       "      <td>3.892851</td>\n",
       "      <td>4.208952</td>\n",
       "      <td>-0.408434</td>\n",
       "      <td>-0.316100</td>\n",
       "    </tr>\n",
       "    <tr>\n",
       "      <th>5</th>\n",
       "      <td>India</td>\n",
       "      <td>3.337392</td>\n",
       "      <td>3.280201</td>\n",
       "      <td>3.446526</td>\n",
       "      <td>0.057191</td>\n",
       "      <td>-0.166325</td>\n",
       "    </tr>\n",
       "    <tr>\n",
       "      <th>...</th>\n",
       "      <td>...</td>\n",
       "      <td>...</td>\n",
       "      <td>...</td>\n",
       "      <td>...</td>\n",
       "      <td>...</td>\n",
       "      <td>...</td>\n",
       "    </tr>\n",
       "    <tr>\n",
       "      <th>205</th>\n",
       "      <td>Kiribati</td>\n",
       "      <td>0.000264</td>\n",
       "      <td>0.000258</td>\n",
       "      <td>0.000222</td>\n",
       "      <td>0.000006</td>\n",
       "      <td>0.000036</td>\n",
       "    </tr>\n",
       "    <tr>\n",
       "      <th>206</th>\n",
       "      <td>Palau</td>\n",
       "      <td>0.000261</td>\n",
       "      <td>0.000243</td>\n",
       "      <td>0.000224</td>\n",
       "      <td>0.000018</td>\n",
       "      <td>0.000019</td>\n",
       "    </tr>\n",
       "    <tr>\n",
       "      <th>207</th>\n",
       "      <td>Marshall Islands</td>\n",
       "      <td>0.000259</td>\n",
       "      <td>0.000262</td>\n",
       "      <td>0.000277</td>\n",
       "      <td>-0.000004</td>\n",
       "      <td>-0.000015</td>\n",
       "    </tr>\n",
       "    <tr>\n",
       "      <th>208</th>\n",
       "      <td>Nauru</td>\n",
       "      <td>0.000136</td>\n",
       "      <td>0.000142</td>\n",
       "      <td>0.000146</td>\n",
       "      <td>-0.000006</td>\n",
       "      <td>-0.000004</td>\n",
       "    </tr>\n",
       "    <tr>\n",
       "      <th>209</th>\n",
       "      <td>Tuvalu</td>\n",
       "      <td>0.000056</td>\n",
       "      <td>0.000057</td>\n",
       "      <td>0.000059</td>\n",
       "      <td>-0.000001</td>\n",
       "      <td>-0.000001</td>\n",
       "    </tr>\n",
       "  </tbody>\n",
       "</table>\n",
       "<p>209 rows × 6 columns</p>\n",
       "</div>"
      ],
      "text/plain": [
       "              Country  Share_MVF_2024  Share_WorldBank_2023  Share_OON_2022  \\\n",
       "1       United States       24.397635             25.282090       25.602846   \n",
       "2               China       15.710056             16.442760       17.864609   \n",
       "3             Germany        3.891861              4.117514        4.054554   \n",
       "4               Japan        3.484417              3.892851        4.208952   \n",
       "5               India        3.337392              3.280201        3.446526   \n",
       "..                ...             ...                   ...             ...   \n",
       "205          Kiribati        0.000264              0.000258        0.000222   \n",
       "206             Palau        0.000261              0.000243        0.000224   \n",
       "207  Marshall Islands        0.000259              0.000262        0.000277   \n",
       "208             Nauru        0.000136              0.000142        0.000146   \n",
       "209            Tuvalu        0.000056              0.000057        0.000059   \n",
       "\n",
       "     Change_2023_2024  Change_2022_2023  \n",
       "1           -0.884455         -0.320755  \n",
       "2           -0.732704         -1.421849  \n",
       "3           -0.225653          0.062961  \n",
       "4           -0.408434         -0.316100  \n",
       "5            0.057191         -0.166325  \n",
       "..                ...               ...  \n",
       "205          0.000006          0.000036  \n",
       "206          0.000018          0.000019  \n",
       "207         -0.000004         -0.000015  \n",
       "208         -0.000006         -0.000004  \n",
       "209         -0.000001         -0.000001  \n",
       "\n",
       "[209 rows x 6 columns]"
      ]
     },
     "execution_count": 95,
     "metadata": {},
     "output_type": "execute_result"
    }
   ],
   "source": [
    "gdp_data['Share_MVF_2024'] = (gdp_data['MVF_2024'] / gdp_data['MVF_2024'].sum()) * 100\n",
    "gdp_data['Share_WorldBank_2023'] = (gdp_data['WorldBank_2023'] / gdp_data['WorldBank_2023'].sum()) * 100\n",
    "gdp_data['Share_OON_2022'] = (gdp_data['OON_2022'] / gdp_data['OON_2022'].sum()) * 100\n",
    "\n",
    "gdp_data['Change_2023_2024'] = gdp_data['Share_MVF_2024'] - gdp_data['Share_WorldBank_2023']\n",
    "gdp_data['Change_2022_2023'] = gdp_data['Share_WorldBank_2023'] - gdp_data['Share_OON_2022']\n",
    "\n",
    "gdp_data[['Country', 'Share_MVF_2024', 'Share_WorldBank_2023', 'Share_OON_2022', 'Change_2023_2024', 'Change_2022_2023']]\n"
   ]
  },
  {
   "cell_type": "markdown",
   "metadata": {},
   "source": [
    "Висновок: Великі економіки, такі як США, Китай і Японія, демонструють тенденцію до зменшення часток у загальному світовому ВВП з кожним роком.\n",
    "Індія і деякі менші країни демонструють стабільність або незначне зростання.\n",
    "Менші країни мають мінімальні коливання часток, але загалом демонструють стабільний внесок."
   ]
  },
  {
   "cell_type": "code",
   "execution_count": 96,
   "metadata": {},
   "outputs": [
    {
     "data": {
      "image/png": "[encoded data removed]",
      "text/plain": [
       "<Figure size 640x480 with 1 Axes>"
      ]
     },
     "metadata": {},
     "output_type": "display_data"
    }
   ],
   "source": [
    "gdp_data.set_index('Country')[['MVF_2024', 'WorldBank_2023', 'OON_2022']].T.plot(legend=False)\n",
    "plt.title('Changes in GDP for Countries Over Three Years')\n",
    "plt.xlabel('Year')\n",
    "plt.ylabel('GDP (million USD)')\n",
    "plt.show()"
   ]
  },
  {
   "cell_type": "markdown",
   "metadata": {},
   "source": [
    "Стабільне зростання спостерігається в країнах з невеликим економічним внеском, таких як Індія та деякі малі держави.\n",
    "Стабільний спад характерний для великих економік, таких як США, Китай, і Японія.\n",
    "Стабільність із мінімальними коливаннями спостерігається у деяких середніх та малих економік."
   ]
  }
 ],
 "metadata": {
  "kernelspec": {
   "display_name": "Python 3",
   "language": "python",
   "name": "python3"
  },
  "language_info": {
   "codemirror_mode": {
    "name": "ipython",
    "version": 3
   },
   "file_extension": ".py",
   "mimetype": "text/x-python",
   "name": "python",
   "nbconvert_exporter": "python",
   "pygments_lexer": "ipython3",
   "version": "3.10.6"
  }
 },
 "nbformat": 4,
 "nbformat_minor": 2
}
