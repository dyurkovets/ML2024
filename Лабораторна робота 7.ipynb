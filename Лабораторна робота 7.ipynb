{
 "cells": [
  {
   "cell_type": "code",
   "execution_count": 14,
   "metadata": {},
   "outputs": [],
   "source": [
    "from surprise import Dataset\n",
    "from surprise.model_selection import train_test_split, GridSearchCV\n",
    "from surprise import SVDpp, KNNWithMeans\n",
    "from surprise import accuracy"
   ]
  },
  {
   "cell_type": "code",
   "execution_count": 15,
   "metadata": {},
   "outputs": [],
   "source": [
    "# Завантаження даних\n",
    "data = Dataset.load_builtin('ml-100k')"
   ]
  },
  {
   "cell_type": "code",
   "execution_count": 16,
   "metadata": {},
   "outputs": [],
   "source": [
    "# Поділ на тренувальний і тестовий набори\n",
    "trainset, testset = train_test_split(data, test_size=0.2)\n"
   ]
  },
  {
   "cell_type": "code",
   "execution_count": 17,
   "metadata": {},
   "outputs": [
    {
     "name": "stdout",
     "output_type": "stream",
     "text": [
      "Найкращі параметри для SVD++: {'n_factors': 50, 'lr_all': 0.01, 'reg_all': 0.05}\n"
     ]
    }
   ],
   "source": [
    "# Параметри для SVD++\n",
    "param_grid_svdpp = {\n",
    "    'n_factors': [50, 100],\n",
    "    'lr_all': [0.005, 0.010],\n",
    "    'reg_all': [0.02, 0.05]\n",
    "}\n",
    "\n",
    "# Налаштування GridSearchCV для SVD++\n",
    "grid_search_svdpp = GridSearchCV(SVDpp, param_grid_svdpp, measures=['rmse', 'mae'], cv=5)\n",
    "grid_search_svdpp.fit(data)\n",
    "\n",
    "# Виведення найкращих параметрів для SVD++\n",
    "best_params_svdpp = grid_search_svdpp.best_params['rmse']\n",
    "print(\"Найкращі параметри для SVD++:\", best_params_svdpp)"
   ]
  },
  {
   "cell_type": "code",
   "execution_count": 18,
   "metadata": {},
   "outputs": [
    {
     "name": "stdout",
     "output_type": "stream",
     "text": [
      "Computing the cosine similarity matrix...\n",
      "Done computing similarity matrix.\n",
      "Computing the cosine similarity matrix...\n",
      "Done computing similarity matrix.\n",
      "Computing the cosine similarity matrix...\n",
      "Done computing similarity matrix.\n",
      "Computing the cosine similarity matrix...\n",
      "Done computing similarity matrix.\n",
      "Computing the cosine similarity matrix...\n",
      "Done computing similarity matrix.\n",
      "Computing the cosine similarity matrix...\n",
      "Done computing similarity matrix.\n",
      "Computing the cosine similarity matrix...\n",
      "Done computing similarity matrix.\n",
      "Computing the cosine similarity matrix...\n",
      "Done computing similarity matrix.\n",
      "Computing the cosine similarity matrix...\n",
      "Done computing similarity matrix.\n",
      "Computing the cosine similarity matrix...\n",
      "Done computing similarity matrix.\n",
      "Computing the pearson similarity matrix...\n",
      "Done computing similarity matrix.\n",
      "Computing the pearson similarity matrix...\n",
      "Done computing similarity matrix.\n",
      "Computing the pearson similarity matrix...\n",
      "Done computing similarity matrix.\n",
      "Computing the pearson similarity matrix...\n",
      "Done computing similarity matrix.\n",
      "Computing the pearson similarity matrix...\n",
      "Done computing similarity matrix.\n",
      "Computing the pearson similarity matrix...\n",
      "Done computing similarity matrix.\n",
      "Computing the pearson similarity matrix...\n",
      "Done computing similarity matrix.\n",
      "Computing the pearson similarity matrix...\n",
      "Done computing similarity matrix.\n",
      "Computing the pearson similarity matrix...\n",
      "Done computing similarity matrix.\n",
      "Computing the pearson similarity matrix...\n",
      "Done computing similarity matrix.\n",
      "Computing the cosine similarity matrix...\n",
      "Done computing similarity matrix.\n",
      "Computing the cosine similarity matrix...\n",
      "Done computing similarity matrix.\n",
      "Computing the cosine similarity matrix...\n",
      "Done computing similarity matrix.\n",
      "Computing the cosine similarity matrix...\n",
      "Done computing similarity matrix.\n",
      "Computing the cosine similarity matrix...\n",
      "Done computing similarity matrix.\n",
      "Computing the cosine similarity matrix...\n",
      "Done computing similarity matrix.\n",
      "Computing the cosine similarity matrix...\n",
      "Done computing similarity matrix.\n",
      "Computing the cosine similarity matrix...\n",
      "Done computing similarity matrix.\n",
      "Computing the cosine similarity matrix...\n",
      "Done computing similarity matrix.\n",
      "Computing the cosine similarity matrix...\n",
      "Done computing similarity matrix.\n",
      "Computing the pearson similarity matrix...\n",
      "Done computing similarity matrix.\n",
      "Computing the pearson similarity matrix...\n",
      "Done computing similarity matrix.\n",
      "Computing the pearson similarity matrix...\n",
      "Done computing similarity matrix.\n",
      "Computing the pearson similarity matrix...\n",
      "Done computing similarity matrix.\n",
      "Computing the pearson similarity matrix...\n",
      "Done computing similarity matrix.\n",
      "Computing the pearson similarity matrix...\n",
      "Done computing similarity matrix.\n",
      "Computing the pearson similarity matrix...\n",
      "Done computing similarity matrix.\n",
      "Computing the pearson similarity matrix...\n",
      "Done computing similarity matrix.\n",
      "Computing the pearson similarity matrix...\n",
      "Done computing similarity matrix.\n",
      "Computing the pearson similarity matrix...\n",
      "Done computing similarity matrix.\n",
      "Computing the cosine similarity matrix...\n",
      "Done computing similarity matrix.\n",
      "Computing the cosine similarity matrix...\n",
      "Done computing similarity matrix.\n",
      "Computing the cosine similarity matrix...\n",
      "Done computing similarity matrix.\n",
      "Computing the cosine similarity matrix...\n",
      "Done computing similarity matrix.\n",
      "Computing the cosine similarity matrix...\n",
      "Done computing similarity matrix.\n",
      "Computing the cosine similarity matrix...\n",
      "Done computing similarity matrix.\n",
      "Computing the cosine similarity matrix...\n",
      "Done computing similarity matrix.\n",
      "Computing the cosine similarity matrix...\n",
      "Done computing similarity matrix.\n",
      "Computing the cosine similarity matrix...\n",
      "Done computing similarity matrix.\n",
      "Computing the cosine similarity matrix...\n",
      "Done computing similarity matrix.\n",
      "Computing the pearson similarity matrix...\n",
      "Done computing similarity matrix.\n",
      "Computing the pearson similarity matrix...\n",
      "Done computing similarity matrix.\n",
      "Computing the pearson similarity matrix...\n",
      "Done computing similarity matrix.\n",
      "Computing the pearson similarity matrix...\n",
      "Done computing similarity matrix.\n",
      "Computing the pearson similarity matrix...\n",
      "Done computing similarity matrix.\n",
      "Computing the pearson similarity matrix...\n",
      "Done computing similarity matrix.\n",
      "Computing the pearson similarity matrix...\n",
      "Done computing similarity matrix.\n",
      "Computing the pearson similarity matrix...\n",
      "Done computing similarity matrix.\n",
      "Computing the pearson similarity matrix...\n",
      "Done computing similarity matrix.\n",
      "Computing the pearson similarity matrix...\n",
      "Done computing similarity matrix.\n",
      "Computing the cosine similarity matrix...\n",
      "Done computing similarity matrix.\n",
      "Computing the cosine similarity matrix...\n",
      "Done computing similarity matrix.\n",
      "Computing the cosine similarity matrix...\n",
      "Done computing similarity matrix.\n",
      "Computing the cosine similarity matrix...\n",
      "Done computing similarity matrix.\n",
      "Computing the cosine similarity matrix...\n",
      "Done computing similarity matrix.\n",
      "Computing the cosine similarity matrix...\n",
      "Done computing similarity matrix.\n",
      "Computing the cosine similarity matrix...\n",
      "Done computing similarity matrix.\n",
      "Computing the cosine similarity matrix...\n",
      "Done computing similarity matrix.\n",
      "Computing the cosine similarity matrix...\n",
      "Done computing similarity matrix.\n",
      "Computing the cosine similarity matrix...\n",
      "Done computing similarity matrix.\n",
      "Computing the pearson similarity matrix...\n",
      "Done computing similarity matrix.\n",
      "Computing the pearson similarity matrix...\n",
      "Done computing similarity matrix.\n",
      "Computing the pearson similarity matrix...\n",
      "Done computing similarity matrix.\n",
      "Computing the pearson similarity matrix...\n",
      "Done computing similarity matrix.\n",
      "Computing the pearson similarity matrix...\n",
      "Done computing similarity matrix.\n",
      "Computing the pearson similarity matrix...\n",
      "Done computing similarity matrix.\n",
      "Computing the pearson similarity matrix...\n",
      "Done computing similarity matrix.\n",
      "Computing the pearson similarity matrix...\n",
      "Done computing similarity matrix.\n",
      "Computing the pearson similarity matrix...\n",
      "Done computing similarity matrix.\n",
      "Computing the pearson similarity matrix...\n",
      "Done computing similarity matrix.\n",
      "Найкращі параметри для KNNWithMeans: {'k': 40, 'min_k': 1, 'sim_options': {'name': 'pearson', 'user_based': False}}\n"
     ]
    }
   ],
   "source": [
    "# Параметри для KNNWithMeans\n",
    "param_grid_knn_means = {\n",
    "    'k': [10, 40],\n",
    "    'min_k': [1, 3],\n",
    "    'sim_options': {\n",
    "        'name': ['cosine', 'pearson'],\n",
    "        'user_based': [False, True]\n",
    "    }\n",
    "}\n",
    "\n",
    "# Налаштування GridSearchCV для KNNWithMeans\n",
    "grid_search_knn_means = GridSearchCV(KNNWithMeans, param_grid_knn_means, measures=['rmse', 'mae'], cv=5)\n",
    "grid_search_knn_means.fit(data)\n",
    "\n",
    "# Виведення найкращих параметрів для KNNWithMeans\n",
    "best_params_knn_means = grid_search_knn_means.best_params['rmse']\n",
    "print(\"Найкращі параметри для KNNWithMeans:\", best_params_knn_means)"
   ]
  },
  {
   "cell_type": "code",
   "execution_count": 28,
   "metadata": {},
   "outputs": [
    {
     "name": "stdout",
     "output_type": "stream",
     "text": [
      "Computing the msd similarity matrix...\n",
      "Done computing similarity matrix.\n"
     ]
    },
    {
     "data": {
      "text/plain": [
       "<surprise.prediction_algorithms.knns.KNNWithMeans at 0x26a291eab50>"
      ]
     },
     "execution_count": 28,
     "metadata": {},
     "output_type": "execute_result"
    }
   ],
   "source": [
    "# Оцінка моделей на тестовому наборі\n",
    "model_svdpp = SVDpp(**best_params_svdpp)\n",
    "model_svdpp.fit(trainset)\n",
    "\n",
    "model_knn_means = KNNWithMeans(**best_params_knn_means['sim_options'], k=best_params_knn_means['k'], min_k=best_params_knn_means['min_k'])\n",
    "model_knn_means.fit(trainset)"
   ]
  },
  {
   "cell_type": "code",
   "execution_count": 20,
   "metadata": {},
   "outputs": [],
   "source": [
    "# Прогнозування на тестовому наборі\n",
    "predictions_svdpp = model_svdpp.test(testset)\n",
    "predictions_knn_means = model_knn_means.test(testset)\n"
   ]
  },
  {
   "cell_type": "code",
   "execution_count": 21,
   "metadata": {},
   "outputs": [
    {
     "name": "stdout",
     "output_type": "stream",
     "text": [
      "RMSE: 0.9157\n",
      "RMSE: 0.9574\n",
      "SVD++ RMSE: 0.9156747864469647\n",
      "KNNWithMeans RMSE: 0.9574106694773667\n"
     ]
    }
   ],
   "source": [
    "# Оцінка результатів\n",
    "from surprise import accuracy\n",
    "rmse_svdpp = accuracy.rmse(predictions_svdpp)\n",
    "rmse_knn_means = accuracy.rmse(predictions_knn_means)\n",
    "\n",
    "print(f\"SVD++ RMSE: {rmse_svdpp}\")\n",
    "print(f\"KNNWithMeans RMSE: {rmse_knn_means}\")"
   ]
  },
  {
   "cell_type": "markdown",
   "metadata": {},
   "source": [
    "Після налаштування та оцінки двох моделей — SVD++ та KNNWithMeans — на наборі даних MovieLens 100K, модель SVD++ показала кращі результати за метрикою RMSE (0.9157), що свідчить про точніші прогнози порівняно з KNNWithMeans, яка отримала RMSE 0.9574. Це означає, що SVD++ краще справляється з завданням прогнозування рейтингу фільмів на основі взаємодій користувачів і фільмів у цьому конкретному випадку."
   ]
  },
  {
   "cell_type": "code",
   "execution_count": 45,
   "metadata": {},
   "outputs": [
    {
     "name": "stdout",
     "output_type": "stream",
     "text": [
      "Кількість рецензій користувача 22: 27\n",
      "Топ-10 фільмів, рекомендованих для користувача:\n",
      "Фільм 174 з прогнозованим рейтингом 5.00\n",
      "Фільм 173 з прогнозованим рейтингом 5.00\n",
      "Фільм 172 з прогнозованим рейтингом 5.00\n",
      "Фільм 50 з прогнозованим рейтингом 5.00\n",
      "Фільм 168 з прогнозованим рейтингом 4.96\n",
      "Фільм 181 з прогнозованим рейтингом 4.90\n",
      "Фільм 483 з прогнозованим рейтингом 4.87\n",
      "Фільм 127 з прогнозованим рейтингом 4.85\n",
      "Фільм 187 з прогнозованим рейтингом 4.75\n",
      "Фільм 12 з прогнозованим рейтингом 4.68\n"
     ]
    }
   ],
   "source": [
    "# Створення моделі з використанням SVDpp з найкращими параметрами\n",
    "algo = SVDpp(n_factors=best_params_svdpp['n_factors'], \n",
    "             lr_all=best_params_svdpp['lr_all'], \n",
    "             reg_all=best_params_svdpp['reg_all'])\n",
    "# Навчання моделі\n",
    "algo.fit(trainset)\n",
    "\n",
    "# Отримання прогнозів на тестовому наборі\n",
    "predictions = algo.test(testset)\n",
    "\n",
    "# Функція для підрахунку кількості рецензій користувача\n",
    "def count_reviews(user_id, predictions):\n",
    "    return sum(1 for pred in predictions if pred.uid == str(user_id))\n",
    "\n",
    "# Функція для отримання топ-10 рекомендацій для користувача\n",
    "def get_top_n_recommendations(user_id, algo, n=10):\n",
    "    all_movie_ids = set(iid for (_, iid, _) in testset)\n",
    "    rated_movie_ids = set(pred.iid for pred in predictions if pred.uid == str(user_id))\n",
    "    unrated_movie_ids = all_movie_ids - rated_movie_ids\n",
    "    \n",
    "    recommendations = []\n",
    "    for movie_id in unrated_movie_ids:\n",
    "        predicted_rating = algo.predict(str(user_id), movie_id).est\n",
    "        recommendations.append((movie_id, predicted_rating))\n",
    "    \n",
    "    # Сортування за прогнозованим рейтингом\n",
    "    recommendations.sort(key=lambda x: x[1], reverse=True)\n",
    "    return recommendations[:n]\n",
    "\n",
    "# Кількість рецензій користувача\n",
    "user_id = 22\n",
    "num_reviews = count_reviews(user_id, predictions)\n",
    "print(f\"Кількість рецензій користувача {user_id}: {num_reviews}\")\n",
    "\n",
    "# Топ-10 рекомендованих фільмів\n",
    "top_10_movies = get_top_n_recommendations(user_id, algo)\n",
    "\n",
    "print(\"Топ-10 фільмів, рекомендованих для користувача:\")\n",
    "for movie_id, predicted_rating in top_10_movies:\n",
    "    print(f\"Фільм {movie_id} з прогнозованим рейтингом {predicted_rating:.2f}\")"
   ]
  }
 ],
 "metadata": {
  "kernelspec": {
   "display_name": "myenv",
   "language": "python",
   "name": "python3"
  },
  "language_info": {
   "codemirror_mode": {
    "name": "ipython",
    "version": 3
   },
   "file_extension": ".py",
   "mimetype": "text/x-python",
   "name": "python",
   "nbconvert_exporter": "python",
   "pygments_lexer": "ipython3",
   "version": "3.8.19"
  }
 },
 "nbformat": 4,
 "nbformat_minor": 2
}
